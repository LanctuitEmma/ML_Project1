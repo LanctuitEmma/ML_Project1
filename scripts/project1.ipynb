{
 "cells": [
  {
   "cell_type": "code",
   "execution_count": 1,
   "metadata": {},
   "outputs": [],
   "source": [
    "# Useful starting lines\n",
    "%matplotlib inline\n",
    "import datetime\n",
    "import numpy as np\n",
    "import matplotlib.pyplot as plt\n",
    "%load_ext autoreload\n",
    "%autoreload 2"
   ]
  },
  {
   "cell_type": "markdown",
   "metadata": {},
   "source": [
    "## Load the training data into feature matrix, class labels, and event ids:"
   ]
  },
  {
   "cell_type": "code",
   "execution_count": 15,
   "metadata": {},
   "outputs": [],
   "source": [
    "from proj1_helpers import *\n",
    "from implementations import*\n",
    "\n",
    "DATA_TRAIN_PATH = '../data/train.csv/train.csv' # TODO: download train data and supply path here \n",
    "y, tX, ids = load_csv_data(DATA_TRAIN_PATH)"
   ]
  },
  {
   "cell_type": "raw",
   "metadata": {},
   "source": [
    "Cleanning dataset by deleting index where there is outsider (values -999.0):"
   ]
  },
  {
   "cell_type": "code",
   "execution_count": 21,
   "metadata": {
    "scrolled": true
   },
   "outputs": [
    {
     "name": "stdout",
     "output_type": "stream",
     "text": [
      "(250000, 30)\n",
      "(68114, 30)\n"
     ]
    }
   ],
   "source": [
    "selector = np.all(tX != -999.0, axis=1)\n",
    "tX_clean = tX[selector]\n",
    "y = y[selector]\n",
    "print(tX.shape)\n",
    "print(tX_clean.shape)\n",
    "    "
   ]
  },
  {
   "cell_type": "raw",
   "metadata": {},
   "source": [
    "Too many data lost in tX_clean, maybe we can make calculation without taking into account the -999.0 in the average\n",
    "We can replace this value by NaN wich will be not taking into account during the standardization"
   ]
  },
  {
   "cell_type": "code",
   "execution_count": 16,
   "metadata": {},
   "outputs": [
    {
     "name": "stdout",
     "output_type": "stream",
     "text": [
      "[[ 1.38470e+02  5.16550e+01  9.78270e+01  2.79800e+01  9.10000e-01\n",
      "   1.24711e+02  2.66600e+00  3.06400e+00  4.19280e+01  1.97760e+02\n",
      "   1.58200e+00  1.39600e+00  2.00000e-01  3.26380e+01  1.01700e+00\n",
      "   3.81000e-01  5.16260e+01  2.27300e+00 -2.41400e+00  1.68240e+01\n",
      "  -2.77000e-01  2.58733e+02  2.00000e+00  6.74350e+01  2.15000e+00\n",
      "   4.44000e-01  4.60620e+01  1.24000e+00 -2.47500e+00  1.13497e+02]\n",
      " [ 1.60937e+02  6.87680e+01  1.03235e+02  4.81460e+01          nan\n",
      "           nan          nan  3.47300e+00  2.07800e+00  1.25157e+02\n",
      "   8.79000e-01  1.41400e+00          nan  4.20140e+01  2.03900e+00\n",
      "  -3.01100e+00  3.69180e+01  5.01000e-01  1.03000e-01  4.47040e+01\n",
      "  -1.91600e+00  1.64546e+02  1.00000e+00  4.62260e+01  7.25000e-01\n",
      "   1.15800e+00          nan          nan          nan  4.62260e+01]\n",
      " [         nan  1.62172e+02  1.25953e+02  3.56350e+01          nan\n",
      "           nan          nan  3.14800e+00  9.33600e+00  1.97814e+02\n",
      "   3.77600e+00  1.41400e+00          nan  3.21540e+01 -7.05000e-01\n",
      "  -2.09300e+00  1.21409e+02 -9.53000e-01  1.05200e+00  5.42830e+01\n",
      "  -2.18600e+00  2.60414e+02  1.00000e+00  4.42510e+01  2.05300e+00\n",
      "  -2.02800e+00          nan          nan          nan  4.42510e+01]\n",
      " [ 1.43905e+02  8.14170e+01  8.09430e+01  4.14000e-01          nan\n",
      "           nan          nan  3.31000e+00  4.14000e-01  7.59680e+01\n",
      "   2.35400e+00 -1.28500e+00          nan  2.26470e+01 -1.65500e+00\n",
      "   1.00000e-02  5.33210e+01 -5.22000e-01 -3.10000e+00  3.10820e+01\n",
      "   6.00000e-02  8.60620e+01  0.00000e+00          nan          nan\n",
      "           nan          nan          nan          nan  0.00000e+00]]\n",
      "92.56765498468643\n"
     ]
    }
   ],
   "source": [
    "tX_nan = tX.copy()\n",
    "for i in range(tX.shape[0]):\n",
    "    for j in range(tX.shape[1]):\n",
    "        if (tX_nan[i,j] == -999.0):\n",
    "            tX_nan[i,j] = np.nan\n",
    "print(tX_nan[0:4])\n",
    "tX_nan, mean_x_nan, std_x_nan = standardize(tX_nan)\n"
   ]
  },
  {
   "cell_type": "markdown",
   "metadata": {},
   "source": [
    "# 1.Least squares gradient descent"
   ]
  },
  {
   "cell_type": "raw",
   "metadata": {},
   "source": [
    "We can alter on gamma + w_initial"
   ]
  },
  {
   "cell_type": "code",
   "execution_count": 24,
   "metadata": {},
   "outputs": [
    {
     "name": "stdout",
     "output_type": "stream",
     "text": [
      "1.0000000000000002\n",
      "[5.46039816 0.58649119 2.41623116 2.12777955]\n",
      "[7.25607166 4.47120887 5.45022926 5.38646489]\n",
      "[ 3.29251368 -1.36335218  0.39861424 -0.06926233]\n",
      "[7.13478007 5.58611137 6.16940733 6.00764691]\n",
      "[ 1.12068557 -3.85431234 -1.83773717 -2.64529862]\n",
      "[7.99926722 7.95974652 8.07682848 7.85054946]\n",
      "[-1.66188875 -7.63576454 -5.08787288 -6.30729592]\n",
      "[10.1416313  12.22143304 11.62024611 11.4584095 ]\n",
      "[ -5.70909737 -13.69775998 -10.22836378 -11.96422425]\n",
      "[14.23885184 19.55337751 17.77263266 17.88067709]\n",
      "[-12.00720043 -23.62476388 -18.60711219 -21.05455579]\n",
      "[21.4841766  31.96623793 28.2196004  28.91631058]\n",
      "[-22.16130943 -40.04032916 -32.43977001 -35.94905502]\n",
      "[33.89922821 52.83017888 45.7960701  47.59027034]\n",
      "[-38.82803739 -67.31475426 -55.41115065 -60.58863926]\n",
      "[54.87765455 87.77840284 75.24476966 78.96609848]\n",
      "[ -66.42634171 -112.73804357  -93.66468433 -101.54058464]\n",
      "[ 90.09861914 146.21969302 124.48968972 131.50689582]\n",
      "[-112.32097271 -188.47587916 -157.45053705 -169.7593227 ]\n",
      "[149.05364013 243.86457398 206.76388678 219.3487134 ]\n",
      "[-188.79692209 -314.83424709 -263.8759044  -283.52501198]\n",
      "[247.59629297 406.94283975 344.16222668 366.09632208]\n",
      "[-316.35492089 -525.70909536 -441.49591349 -473.34869473]\n",
      "[412.19914282 679.24442398 573.5725629  611.16017621]\n",
      "[-529.21247907 -877.68376377 -737.97739341 -790.16059141]\n",
      "[ 687.06056434 1133.87344912  956.57733262 1020.33550853]\n",
      "[ -884.48692594 -1465.21599502 -1232.892515   -1318.97929171]\n",
      "[1145.9690413  1892.87035599 1595.98326331 1703.46311811]\n",
      "[-1477.52519596 -2445.99082793 -2059.07619466 -2201.73072301]\n",
      "[1912.10947529 3159.96887206 2663.41592179 2843.91219136]\n",
      "[-2467.49495224 -4083.24428271 -3438.27974414 -3675.34166017]\n",
      "[3191.12772404 5275.2800723  4445.38572924 4747.79861962]\n",
      "[-4120.10587659 -6816.41785126 -5740.69048258 -6135.33235988]\n",
      "[5326.32819866 8806.5811967  7420.18995556 7926.14944076]\n",
      "[ -6878.92784077 -11379.10802937  -9584.29285068 -10241.97708354]\n",
      "[ 8890.82003813 14701.71190396 12386.29183415 13232.06703828]\n",
      "[-11484.44831827 -18995.96950858 -16000.74035752 -17097.52684936]\n",
      "[14841.34467549 24542.98237852 20676.63481908 22089.70911484]\n",
      "[-19172.82500645 -31711.42245973 -26712.25974768 -28542.06244503]\n",
      "[24775.07339977 40971.87852819 34516.41570437 36876.54456438]\n",
      "[-32007.6804836  -52938.39164495 -44593.9107408  -47647.38707502]\n",
      "[41358.30150886 68398.05865035 57620.34586377 61561.48587792]\n",
      "[-53433.99530695 -88374.36345173 -74445.2756595  -79541.52348751]\n",
      "[ 69042.1041064  114182.94211538  96189.71045254 102770.17808512]\n",
      "[ -89202.76901095 -147530.63809833 -124278.70679319 -132785.11739337]\n",
      "[115257.04146246 190615.57502185 160576.84447727 171563.37656466]\n",
      "[-148914.63562557 -246285.24089614 -207469.90769756 -221669.18518588]\n",
      "[192407.58270464 318211.11144217 268063.78482381 286405.74498098]\n",
      "[-248596.75282742 -411144.71497654 -346348.08216114 -370050.94036994]\n",
      "[321201.56759129 531217.24979551 447500.9113371  478121.92317074]\n",
      "[-415004.62299133 -686358.69575157 -578189.27638976 -617757.26610487]\n",
      "[536208.36133534 886806.59722628 747050.62642744 798170.11442459]\n",
      "[ -692803.49034106 -1145796.87749212  -965221.5768147  -1031274.57863126]\n",
      "[ 895137.55701744 1480422.26830299 1247114.54059297 1332453.89113974]\n",
      "[-1156556.8603413  -1912776.24767844 -1611327.64102348 -1721594.3289715 ]\n",
      "[1494328.70574451 2471395.60312519 2081913.92693051 2224379.42124556]\n",
      "[-1930739.95867847 -3193160.38213124 -2689927.6586868  -2874004.02254544]\n",
      "[2494609.64571381 4125712.01138287 3475515.81637673 3713346.8648905 ]\n",
      "[-3223149.90706163 -5330614.92436255 -4490526.75885497 -4797819.91174199]\n",
      "[4164464.01869077 6887403.64716106 5801974.43437659 6199007.34930174]\n",
      "[-5380680.18221439 -8898850.27492252 -7496420.57113534 -8009410.02576121]\n",
      "[ 6952094.49087968 11497731.29644286  9685730.4359449  10348532.62313234]\n",
      "[ -8982429.68224337 -14855610.18833133 -12514415.75340228\n",
      " -13370791.60276612]\n",
      "[11605724.04022824 19194144.87757416 16169215.92076283 17275689.44906371]\n",
      "[-14995137.64070014 -24799738.08535929 -20891383.5441361\n",
      " -22321003.61670795]\n",
      "[19374425.16655675 32042425.19177933 26992651.79486266 28839783.77660848]\n",
      "[-25032664.39953066 -41400319.79623178 -34875771.09651101\n",
      " -37262356.69075514]\n",
      "[32343381.23866799 53491156.50529662 45061137.39536548 48144713.77338823]\n",
      "[-41789164.81761814 -69113088.18172511 -58221103.21393613\n",
      " -62205233.05548763]\n",
      "[53993566.88542518 89297354.97116153 75224403.08079436 80372081.65899442]\n",
      "[-6.97622216e+07 -1.15376379e+08 -9.71934593e+07 -1.03844506e+08]\n",
      "[9.01360703e+07 1.49071699e+08 1.25578518e+08 1.34171978e+08]\n",
      "[-1.16460034e+08 -1.92607639e+08 -1.62253341e+08 -1.73356500e+08]\n",
      "[1.50471837e+08 2.48858115e+08 2.09638941e+08 2.23984739e+08]\n",
      "[-1.94416678e+08 -3.21536376e+08 -2.70863356e+08 -2.89398806e+08]\n",
      "[2.51195484e+08 4.15440100e+08 3.49968182e+08 3.73916850e+08]\n",
      "[-3.24556361e+08 -5.36768125e+08 -4.52175327e+08 -4.83118135e+08]\n",
      "[4.19342067e+08 6.93529629e+08 5.84231765e+08 6.24211322e+08]\n",
      "[-5.41809645e+08 -8.96072859e+08 -7.54854880e+08 -8.06510351e+08]\n",
      "[7.00043515e+08 1.15776822e+09 9.75307965e+08 1.04204926e+09]\n",
      "[-9.04489101e+08 -1.49589093e+09 -1.26014370e+09 -1.34637659e+09]\n",
      "[1.16864241e+09 1.93276134e+09 1.62816486e+09 1.73958179e+09]\n",
      "[-1.50994088e+09 -2.49721845e+09 -2.10366547e+09 -2.24762139e+09]\n",
      "[1.95091455e+09 3.22652353e+09 2.71803461e+09 2.90403241e+09]\n",
      "[-2.52067323e+09 -4.16881996e+09 -3.51182838e+09 -3.75214628e+09]\n",
      "[3.25682822e+09 5.38631121e+09 4.53744723e+09 4.84794925e+09]\n",
      "[-4.20797504e+09 -6.95936709e+09 -5.86259495e+09 -6.26377815e+09]\n",
      "[5.43690141e+09 8.99182918e+09 7.57474806e+09 8.09309559e+09]\n",
      "[-7.02473201e+09 -1.16178657e+10 -9.78693030e+09 -1.04566597e+10]\n",
      "[9.07628372e+09 1.50108282e+10 1.26451737e+10 1.35104955e+10]\n",
      "[-1.17269849e+10 -1.93946951e+10 -1.63381584e+10 -1.74561947e+10]\n",
      "[1.51518153e+10 2.50588571e+10 2.11096680e+10 2.25542236e+10]\n",
      "[-1.95768571e+10 -3.23772204e+10 -2.72746827e+10 -2.91411163e+10]\n",
      "[2.52942190e+10 4.18328896e+10 3.52401712e+10 3.76516911e+10]\n",
      "[-3.26813191e+10 -5.40500584e+10 -4.55319565e+10 -4.86477535e+10]\n",
      "[4.22257994e+10 6.98352143e+10 5.88294265e+10 6.28551826e+10]\n",
      "[-5.45577163e+10 -9.02303772e+10 -7.60103824e+10 -8.12118484e+10]\n",
      "[7.04911321e+10 1.16581886e+11 9.82089845e+10 1.04929523e+11]\n",
      "[-9.10778538e+10 -1.50629272e+11 -1.26890621e+11 -1.35573872e+11]\n",
      "[1.17676865e+11 1.94620095e+11 1.63948643e+11 1.75167811e+11]\n",
      "Least Square GD: loss*=1.295297524456812e+23, w0*=6011085897.484911, w1*=-2961946155.5218687\n"
     ]
    }
   ],
   "source": [
    "tX_clean, mean_tX_clean, std_tX_clean = standardize(tX_clean)\n",
    "\n",
    "# Define the parameters of the algorithm.\n",
    "max_iters = 50\n",
    "gamma = 0.1\n",
    "\n",
    "# Initialization\n",
    "w_initial = np.ones(tX_clean.shape[1])\n",
    "\n",
    "# Start gradient descent.\n",
    "start_time = datetime.datetime.now()\n",
    "mse, opt_w = least_squares_GD(y, tX_clean, w_initial, max_iters, gamma)\n",
    "end_time = datetime.datetime.now()\n",
    "\n",
    "print(\"Least Square GD: loss*={l}, w0*={w0}, w1*={w1}\".format(\n",
    "      l=mse, w0=opt_w[0], w1=opt_w[1]))"
   ]
  },
  {
   "cell_type": "markdown",
   "metadata": {},
   "source": [
    "## Generate predictions and save ouput in csv format for submission:"
   ]
  },
  {
   "cell_type": "code",
   "execution_count": 6,
   "metadata": {},
   "outputs": [
    {
     "ename": "OSError",
     "evalue": " not found.",
     "output_type": "error",
     "traceback": [
      "\u001b[1;31m---------------------------------------------------------------------------\u001b[0m",
      "\u001b[1;31mOSError\u001b[0m                                   Traceback (most recent call last)",
      "\u001b[1;32m<ipython-input-6-c726fbe1599f>\u001b[0m in \u001b[0;36m<module>\u001b[1;34m\u001b[0m\n\u001b[0;32m      1\u001b[0m \u001b[0mDATA_TEST_PATH\u001b[0m \u001b[1;33m=\u001b[0m \u001b[1;34m''\u001b[0m \u001b[1;31m# TODO: download train data and supply path here\u001b[0m\u001b[1;33m\u001b[0m\u001b[1;33m\u001b[0m\u001b[0m\n\u001b[1;32m----> 2\u001b[1;33m \u001b[0m_\u001b[0m\u001b[1;33m,\u001b[0m \u001b[0mtX_test\u001b[0m\u001b[1;33m,\u001b[0m \u001b[0mids_test\u001b[0m \u001b[1;33m=\u001b[0m \u001b[0mload_csv_data\u001b[0m\u001b[1;33m(\u001b[0m\u001b[0mDATA_TEST_PATH\u001b[0m\u001b[1;33m)\u001b[0m\u001b[1;33m\u001b[0m\u001b[1;33m\u001b[0m\u001b[0m\n\u001b[0m",
      "\u001b[1;32m~\\OneDrive\\Documents\\Cours M1 S1\\Machine Learning\\ML_course-master\\ML_course\\projects\\project1\\scripts\\proj1_helpers.py\u001b[0m in \u001b[0;36mload_csv_data\u001b[1;34m(data_path, sub_sample)\u001b[0m\n\u001b[0;32m      6\u001b[0m \u001b[1;32mdef\u001b[0m \u001b[0mload_csv_data\u001b[0m\u001b[1;33m(\u001b[0m\u001b[0mdata_path\u001b[0m\u001b[1;33m,\u001b[0m \u001b[0msub_sample\u001b[0m\u001b[1;33m=\u001b[0m\u001b[1;32mFalse\u001b[0m\u001b[1;33m)\u001b[0m\u001b[1;33m:\u001b[0m\u001b[1;33m\u001b[0m\u001b[1;33m\u001b[0m\u001b[0m\n\u001b[0;32m      7\u001b[0m     \u001b[1;34m\"\"\"Loads data and returns y (class labels), tX (features) and ids (event ids)\"\"\"\u001b[0m\u001b[1;33m\u001b[0m\u001b[1;33m\u001b[0m\u001b[0m\n\u001b[1;32m----> 8\u001b[1;33m     \u001b[0my\u001b[0m \u001b[1;33m=\u001b[0m \u001b[0mnp\u001b[0m\u001b[1;33m.\u001b[0m\u001b[0mgenfromtxt\u001b[0m\u001b[1;33m(\u001b[0m\u001b[0mdata_path\u001b[0m\u001b[1;33m,\u001b[0m \u001b[0mdelimiter\u001b[0m\u001b[1;33m=\u001b[0m\u001b[1;34m\",\"\u001b[0m\u001b[1;33m,\u001b[0m \u001b[0mskip_header\u001b[0m\u001b[1;33m=\u001b[0m\u001b[1;36m1\u001b[0m\u001b[1;33m,\u001b[0m \u001b[0mdtype\u001b[0m\u001b[1;33m=\u001b[0m\u001b[0mstr\u001b[0m\u001b[1;33m,\u001b[0m \u001b[0musecols\u001b[0m\u001b[1;33m=\u001b[0m\u001b[1;36m1\u001b[0m\u001b[1;33m)\u001b[0m\u001b[1;33m\u001b[0m\u001b[1;33m\u001b[0m\u001b[0m\n\u001b[0m\u001b[0;32m      9\u001b[0m     \u001b[0mx\u001b[0m \u001b[1;33m=\u001b[0m \u001b[0mnp\u001b[0m\u001b[1;33m.\u001b[0m\u001b[0mgenfromtxt\u001b[0m\u001b[1;33m(\u001b[0m\u001b[0mdata_path\u001b[0m\u001b[1;33m,\u001b[0m \u001b[0mdelimiter\u001b[0m\u001b[1;33m=\u001b[0m\u001b[1;34m\",\"\u001b[0m\u001b[1;33m,\u001b[0m \u001b[0mskip_header\u001b[0m\u001b[1;33m=\u001b[0m\u001b[1;36m1\u001b[0m\u001b[1;33m)\u001b[0m\u001b[1;33m\u001b[0m\u001b[1;33m\u001b[0m\u001b[0m\n\u001b[0;32m     10\u001b[0m     \u001b[0mids\u001b[0m \u001b[1;33m=\u001b[0m \u001b[0mx\u001b[0m\u001b[1;33m[\u001b[0m\u001b[1;33m:\u001b[0m\u001b[1;33m,\u001b[0m \u001b[1;36m0\u001b[0m\u001b[1;33m]\u001b[0m\u001b[1;33m.\u001b[0m\u001b[0mastype\u001b[0m\u001b[1;33m(\u001b[0m\u001b[0mnp\u001b[0m\u001b[1;33m.\u001b[0m\u001b[0mint\u001b[0m\u001b[1;33m)\u001b[0m\u001b[1;33m\u001b[0m\u001b[1;33m\u001b[0m\u001b[0m\n",
      "\u001b[1;32m~\\Anaconda3\\lib\\site-packages\\numpy\\lib\\npyio.py\u001b[0m in \u001b[0;36mgenfromtxt\u001b[1;34m(fname, dtype, comments, delimiter, skip_header, skip_footer, converters, missing_values, filling_values, usecols, names, excludelist, deletechars, replace_space, autostrip, case_sensitive, defaultfmt, unpack, usemask, loose, invalid_raise, max_rows, encoding)\u001b[0m\n\u001b[0;32m   1698\u001b[0m             \u001b[0mfname\u001b[0m \u001b[1;33m=\u001b[0m \u001b[0mstr\u001b[0m\u001b[1;33m(\u001b[0m\u001b[0mfname\u001b[0m\u001b[1;33m)\u001b[0m\u001b[1;33m\u001b[0m\u001b[1;33m\u001b[0m\u001b[0m\n\u001b[0;32m   1699\u001b[0m         \u001b[1;32mif\u001b[0m \u001b[0misinstance\u001b[0m\u001b[1;33m(\u001b[0m\u001b[0mfname\u001b[0m\u001b[1;33m,\u001b[0m \u001b[0mbasestring\u001b[0m\u001b[1;33m)\u001b[0m\u001b[1;33m:\u001b[0m\u001b[1;33m\u001b[0m\u001b[1;33m\u001b[0m\u001b[0m\n\u001b[1;32m-> 1700\u001b[1;33m             \u001b[0mfhd\u001b[0m \u001b[1;33m=\u001b[0m \u001b[0miter\u001b[0m\u001b[1;33m(\u001b[0m\u001b[0mnp\u001b[0m\u001b[1;33m.\u001b[0m\u001b[0mlib\u001b[0m\u001b[1;33m.\u001b[0m\u001b[0m_datasource\u001b[0m\u001b[1;33m.\u001b[0m\u001b[0mopen\u001b[0m\u001b[1;33m(\u001b[0m\u001b[0mfname\u001b[0m\u001b[1;33m,\u001b[0m \u001b[1;34m'rt'\u001b[0m\u001b[1;33m,\u001b[0m \u001b[0mencoding\u001b[0m\u001b[1;33m=\u001b[0m\u001b[0mencoding\u001b[0m\u001b[1;33m)\u001b[0m\u001b[1;33m)\u001b[0m\u001b[1;33m\u001b[0m\u001b[1;33m\u001b[0m\u001b[0m\n\u001b[0m\u001b[0;32m   1701\u001b[0m             \u001b[0mown_fhd\u001b[0m \u001b[1;33m=\u001b[0m \u001b[1;32mTrue\u001b[0m\u001b[1;33m\u001b[0m\u001b[1;33m\u001b[0m\u001b[0m\n\u001b[0;32m   1702\u001b[0m         \u001b[1;32melse\u001b[0m\u001b[1;33m:\u001b[0m\u001b[1;33m\u001b[0m\u001b[1;33m\u001b[0m\u001b[0m\n",
      "\u001b[1;32m~\\Anaconda3\\lib\\site-packages\\numpy\\lib\\_datasource.py\u001b[0m in \u001b[0;36mopen\u001b[1;34m(path, mode, destpath, encoding, newline)\u001b[0m\n\u001b[0;32m    260\u001b[0m \u001b[1;33m\u001b[0m\u001b[0m\n\u001b[0;32m    261\u001b[0m     \u001b[0mds\u001b[0m \u001b[1;33m=\u001b[0m \u001b[0mDataSource\u001b[0m\u001b[1;33m(\u001b[0m\u001b[0mdestpath\u001b[0m\u001b[1;33m)\u001b[0m\u001b[1;33m\u001b[0m\u001b[1;33m\u001b[0m\u001b[0m\n\u001b[1;32m--> 262\u001b[1;33m     \u001b[1;32mreturn\u001b[0m \u001b[0mds\u001b[0m\u001b[1;33m.\u001b[0m\u001b[0mopen\u001b[0m\u001b[1;33m(\u001b[0m\u001b[0mpath\u001b[0m\u001b[1;33m,\u001b[0m \u001b[0mmode\u001b[0m\u001b[1;33m,\u001b[0m \u001b[0mencoding\u001b[0m\u001b[1;33m=\u001b[0m\u001b[0mencoding\u001b[0m\u001b[1;33m,\u001b[0m \u001b[0mnewline\u001b[0m\u001b[1;33m=\u001b[0m\u001b[0mnewline\u001b[0m\u001b[1;33m)\u001b[0m\u001b[1;33m\u001b[0m\u001b[1;33m\u001b[0m\u001b[0m\n\u001b[0m\u001b[0;32m    263\u001b[0m \u001b[1;33m\u001b[0m\u001b[0m\n\u001b[0;32m    264\u001b[0m \u001b[1;33m\u001b[0m\u001b[0m\n",
      "\u001b[1;32m~\\Anaconda3\\lib\\site-packages\\numpy\\lib\\_datasource.py\u001b[0m in \u001b[0;36mopen\u001b[1;34m(self, path, mode, encoding, newline)\u001b[0m\n\u001b[0;32m    616\u001b[0m                                       encoding=encoding, newline=newline)\n\u001b[0;32m    617\u001b[0m         \u001b[1;32melse\u001b[0m\u001b[1;33m:\u001b[0m\u001b[1;33m\u001b[0m\u001b[1;33m\u001b[0m\u001b[0m\n\u001b[1;32m--> 618\u001b[1;33m             \u001b[1;32mraise\u001b[0m \u001b[0mIOError\u001b[0m\u001b[1;33m(\u001b[0m\u001b[1;34m\"%s not found.\"\u001b[0m \u001b[1;33m%\u001b[0m \u001b[0mpath\u001b[0m\u001b[1;33m)\u001b[0m\u001b[1;33m\u001b[0m\u001b[1;33m\u001b[0m\u001b[0m\n\u001b[0m\u001b[0;32m    619\u001b[0m \u001b[1;33m\u001b[0m\u001b[0m\n\u001b[0;32m    620\u001b[0m \u001b[1;33m\u001b[0m\u001b[0m\n",
      "\u001b[1;31mOSError\u001b[0m:  not found."
     ]
    }
   ],
   "source": [
    "DATA_TEST_PATH = '' # TODO: download train data and supply path here \n",
    "_, tX_test, ids_test = load_csv_data(DATA_TEST_PATH)"
   ]
  },
  {
   "cell_type": "code",
   "execution_count": null,
   "metadata": {},
   "outputs": [],
   "source": [
    "OUTPUT_PATH = '' # TODO: fill in desired name of output file for submission\n",
    "y_pred = predict_labels(weights, tX_test)\n",
    "create_csv_submission(ids_test, y_pred, OUTPUT_PATH)"
   ]
  },
  {
   "cell_type": "code",
   "execution_count": null,
   "metadata": {},
   "outputs": [],
   "source": []
  }
 ],
 "metadata": {
  "anaconda-cloud": {},
  "kernelspec": {
   "display_name": "Python 3",
   "language": "python",
   "name": "python3"
  },
  "language_info": {
   "codemirror_mode": {
    "name": "ipython",
    "version": 3
   },
   "file_extension": ".py",
   "mimetype": "text/x-python",
   "name": "python",
   "nbconvert_exporter": "python",
   "pygments_lexer": "ipython3",
   "version": "3.7.1"
  }
 },
 "nbformat": 4,
 "nbformat_minor": 1
}
