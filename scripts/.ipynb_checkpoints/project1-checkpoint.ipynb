{
 "cells": [
  {
   "cell_type": "code",
   "execution_count": 1,
   "metadata": {},
   "outputs": [],
   "source": [
    "# Useful starting lines\n",
    "%matplotlib inline\n",
    "import datetime\n",
    "import numpy as np\n",
    "import matplotlib.pyplot as plt\n",
    "%load_ext autoreload\n",
    "%autoreload 2"
   ]
  },
  {
   "cell_type": "markdown",
   "metadata": {},
   "source": [
    "## Load the training data into feature matrix, class labels, and event ids:"
   ]
  },
  {
   "cell_type": "code",
   "execution_count": 2,
   "metadata": {},
   "outputs": [],
   "source": [
    "from proj1_helpers import *\n",
    "from implementations import *"
   ]
  },
  {
   "cell_type": "code",
   "execution_count": 3,
   "metadata": {},
   "outputs": [],
   "source": [
    "DATA_TRAIN_PATH = '../data/train.csv' # TODO: download train data and supply path here \n",
    "y, x, ids = load_csv_data(DATA_TRAIN_PATH)"
   ]
  },
  {
   "cell_type": "raw",
   "metadata": {},
   "source": [
    "Cleanning dataset by deleting index where there is outsider (values -999.0):"
   ]
  },
  {
   "cell_type": "code",
   "execution_count": 6,
   "metadata": {
    "scrolled": true
   },
   "outputs": [
    {
     "name": "stdout",
     "output_type": "stream",
     "text": [
      "(250000, 30)\n",
      "(68114, 30)\n"
     ]
    }
   ],
   "source": [
    "selector = np.all(x != -999.0, axis=1)\n",
    "x_clean = x[selector]\n",
    "y_clean = y[selector]\n",
    "\n",
    "print(x.shape)\n",
    "print(x_clean.shape)\n",
    "    "
   ]
  },
  {
   "cell_type": "raw",
   "metadata": {},
   "source": [
    "Too many data lost in tX_clean, maybe we can make calculation without taking into account the -999.0 in the average\n",
    "We can replace this value by NaN wich will be not taking into account during the standardization"
   ]
  },
  {
   "cell_type": "code",
   "execution_count": 132,
   "metadata": {},
   "outputs": [
    {
     "name": "stdout",
     "output_type": "stream",
     "text": [
      "92.56765498468643\n"
     ]
    },
    {
     "data": {
      "text/plain": [
       "array([[ 1.01244882e+00,  7.45942342e-02,  5.73386172e-01,\n",
       "        -1.81164648e-01, -4.73599409e-01,  8.63811591e-01,\n",
       "        -4.54629500e-01, -4.50329942e-01, -3.04856665e-02,\n",
       "         1.65295333e+00, -4.66339853e-01, -4.68349195e-01,\n",
       "        -4.81269474e-01, -1.30844696e-01, -4.72443497e-01,\n",
       "        -4.79314148e-01,  7.42809499e-02, -4.58875043e-01,\n",
       "        -5.09508280e-01, -3.01681907e-01, -4.86422462e-01,\n",
       "         2.31163913e+00, -4.61824237e-01,  2.45064146e-01,\n",
       "        -4.60203801e-01, -4.78633564e-01,  1.41735614e-02,\n",
       "        -4.70034449e-01, -5.10167257e-01,  7.42667764e-01],\n",
       "       [ 1.25515779e+00,  2.59464425e-01,  6.31808307e-01,\n",
       "         3.66868248e-02, -1.95616781e-01,  1.16748267e-01,\n",
       "         1.24970362e-01, -4.45911552e-01, -4.60981610e-01,\n",
       "         8.68629689e-01, -4.73934299e-01, -4.68154742e-01,\n",
       "         8.04047905e-02, -2.95566163e-02, -4.61402924e-01,\n",
       "        -5.15957617e-01, -8.46082432e-02, -4.78017799e-01,\n",
       "        -4.82317357e-01, -4.96789750e-04, -5.04128431e-01,\n",
       "         1.29414549e+00, -4.72627147e-01,  1.59452385e-02,\n",
       "        -4.75597947e-01, -4.70920287e-01, -1.50381523e-01,\n",
       "         4.43622343e-01, -4.99933726e-02,  1.59452385e-02],\n",
       "       [-2.20367110e-02,  1.26849938e+00,  8.77228805e-01,\n",
       "        -9.84683761e-02, -1.95616781e-01,  1.16748267e-01,\n",
       "         1.24970362e-01, -4.49422497e-01, -3.82574093e-01,\n",
       "         1.65353668e+00, -4.42638270e-01, -4.68154742e-01,\n",
       "         8.04047905e-02, -1.36073304e-01, -4.91046108e-01,\n",
       "        -5.06040546e-01,  8.28140384e-01, -4.93725229e-01,\n",
       "        -4.72065396e-01,  1.02984280e-01, -5.07045216e-01,\n",
       "         2.32979882e+00, -4.72627147e-01, -5.39050776e-03,\n",
       "        -4.61251683e-01, -5.05338357e-01, -1.50381523e-01,\n",
       "         4.43622343e-01, -4.99933726e-02, -5.39050776e-03],\n",
       "       [ 1.07116264e+00,  3.96110427e-01,  3.90989848e-01,\n",
       "        -4.78957652e-01, -1.95616781e-01,  1.16748267e-01,\n",
       "         1.24970362e-01, -4.47672426e-01, -4.78957652e-01,\n",
       "         3.37245373e-01, -4.58000007e-01, -4.97311795e-01,\n",
       "         8.04047905e-02, -2.38776565e-01, -5.01308872e-01,\n",
       "        -4.83322027e-01,  9.25918815e-02, -4.89069175e-01,\n",
       "        -5.16919076e-01, -1.47654023e-01, -4.82781882e-01,\n",
       "         4.46289942e-01, -4.83430056e-01,  3.93324717e-01,\n",
       "        -6.66554280e-02, -2.66164101e-01, -1.50381523e-01,\n",
       "         4.43622343e-01, -4.99933726e-02, -4.83430056e-01]])"
      ]
     },
     "execution_count": 132,
     "metadata": {},
     "output_type": "execute_result"
    }
   ],
   "source": [
    "def standardize_NAN(tX):\n",
    "    tX_nan = tX.copy()\n",
    "    for i in range(tX.shape[0]):\n",
    "        for j in range(tX.shape[1]):\n",
    "            if (tX_nan[i,j] == -999.0):\n",
    "                tX_nan[i,j] = np.nan\n",
    "    return (standardize(tX_nan))\n",
    "\n",
    "\n",
    "tX_nan, mean_x_nan, std_x_nan = standardize_NAN(tX)\n",
    "\n",
    "# Tout les nans (correspondant a des valeurs non connues) sont remplacés par la moyenne de la colonnes\n",
    "means_cols = np.nanmean(tX_nan,axis=1)\n",
    "for row in range(0,tX_nan.shape[0]):\n",
    "    for col in range(0,tX_nan.shape[1]):\n",
    "        if np.isnan(tX_nan[row,col]):\n",
    "            tX_nan[row,col]=means_cols[col]"
   ]
  },
  {
   "cell_type": "code",
   "execution_count": 133,
   "metadata": {},
   "outputs": [
    {
     "data": {
      "text/plain": [
       "array([[ 1.01244882,  0.07459423,  0.57338617, ..., -0.47003445,\n",
       "        -0.51016726,  0.74266776],\n",
       "       [ 1.25515779,  0.25946442,  0.63180831, ...,  0.44362234,\n",
       "        -0.04999337,  0.01594524],\n",
       "       [-0.02203671,  1.26849938,  0.8772288 , ...,  0.44362234,\n",
       "        -0.04999337, -0.00539051],\n",
       "       ...,\n",
       "       [ 0.65581237,  0.17042684,  0.3358518 , ...,  0.44362234,\n",
       "        -0.04999337, -0.02979428],\n",
       "       [ 0.542317  , -0.27426412,  0.25993975, ...,  0.44362234,\n",
       "        -0.04999337, -0.48343006],\n",
       "       [-0.02203671,  0.30254643,  0.28175083, ...,  0.44362234,\n",
       "        -0.04999337, -0.48343006]])"
      ]
     },
     "execution_count": 133,
     "metadata": {},
     "output_type": "execute_result"
    }
   ],
   "source": [
    "tX_nan"
   ]
  },
  {
   "cell_type": "markdown",
   "metadata": {},
   "source": [
    "# 1.Least squares gradient descent"
   ]
  },
  {
   "cell_type": "raw",
   "metadata": {},
   "source": [
    "We can alter on gamma + w_initial"
   ]
  },
  {
   "cell_type": "code",
   "execution_count": null,
   "metadata": {
    "scrolled": true
   },
   "outputs": [],
   "source": [
    "#With tX and y_LS no corrupted\n",
    "tX_LS, m_X,s = standardize(tX_clean)\n",
    "tX_LS = tX_LS[0:68110]\n",
    "y_LS = y_clean[0:68110].copy()\n",
    "\n",
    "#With nan value replaced\n",
    "#tX_LS=tX_nan\n",
    "#y_LS= y\n",
    "\n",
    "max_iters = 100\n",
    "gammas = np.logspace(-4,0,20)\n",
    "K=5\n",
    "\n",
    "# Initialization\n",
    "w_initial = np.zeros(tX_LS.shape[1])\n",
    "\n",
    "list_tX_LS = np.split(tX_LS,K)\n",
    "list_y_LS = np.split(y_LS,K)\n",
    "\n",
    "gen_opt_w=[]\n",
    "gen_mse =[]\n",
    "\n",
    "#gamma selection\n",
    "for ind, gamma in enumerate(gammas):\n",
    "    weights=[]\n",
    "    mse_errors = []\n",
    "    #K-fold crossvalidation\n",
    "    for ind, tX_bloc in enumerate(list_tX_LS):\n",
    "        tX_test = tX_bloc\n",
    "        y_test = list_y_LS[ind]\n",
    "        tX_train= list_tX_LS[:ind] + list_tX_LS[ind+1:]\n",
    "        tX_train= np.concatenate(tX_train)\n",
    "        y_train= list_y_LS[:ind] + list_y_LS[ind+1:]\n",
    "        y_train=np.concatenate(y_train)\n",
    "        \n",
    "        mse, opt_w = least_squares_GD(y_train, tX_train, w_initial, max_iters, gamma)\n",
    "        mse_errors.append(compute_mse(y_test, tX_test,opt_w))\n",
    "        weights.append(opt_w)\n",
    "    gen_mse.append(np.mean(mse_errors))\n",
    "    gen_opt_w.append(np.mean(weights, axis=0))\n",
    "\n",
    "optimal_gamma_LS_GD = gammas[np.argmin(gen_mse)]\n",
    "optimal_weights_LS_GD = gen_opt_w[np.argmin(gen_mse)]\n",
    "print(\" gamma={l:.3f},mse={mse:.3f}\".format(mse = np.min(gen_mse), l = optimal_gamma_LS_GD))\n",
    "\n",
    "#Training Accuracy\n",
    "y_model = predict_labels(optimal_weights_LS_GD, tX_LS)\n",
    "sum_ = 0\n",
    "for i,v in enumerate(y_model):\n",
    "    if(v == y_LS[i]):\n",
    "        sum_ = sum_+1\n",
    "print(sum_/len(y_model))\n",
    "\n",
    "#With tX_CLEAN : accuracy = 0.6823, mse=\n",
    "#With tX_NAN : accuracy= 0.705, mse=\n"
   ]
  },
  {
   "cell_type": "markdown",
   "metadata": {},
   "source": [
    "# Least square SDG"
   ]
  },
  {
   "cell_type": "markdown",
   "metadata": {},
   "source": [
    "We can alter the gamma and the batch size"
   ]
  },
  {
   "cell_type": "code",
   "execution_count": null,
   "metadata": {},
   "outputs": [],
   "source": [
    "# Define the parameters of the algorithm.\n",
    "\n",
    "#With nan value replaced\n",
    "tX_LS=tX_nan\n",
    "y_LS= y\n",
    "\n",
    "max_iters = 50\n",
    "max_batch_size = 5\n",
    "gammas = [0.001,0.01]\n",
    "batch_sizes = np.arange(max_batch_size)\n",
    "\n",
    "# Initialization\n",
    "w_initial = np.zeros(tX_LS.shape[1])\n",
    "list_tX_LS = np.split(tX_LS,K)\n",
    "list_y_LS = np.split(y_LS,K)\n",
    "\n",
    "\n",
    "result_mse =[]\n",
    "result_opt_w=[]\n",
    "result_gamma=[]\n",
    "for ind_batch,batch_size in enumerate(batch_sizes):  \n",
    "    result_mse_gamma = []\n",
    "    result_opt_w_gamma = []\n",
    "    for ind_gamma,gamma in enumerate(gammas):\n",
    "        mse_errors=[]\n",
    "        weights=[]\n",
    "        #K-fold crossvalidation\n",
    "        for ind, tX_bloc in enumerate(list_tX_LS):\n",
    "            tX_test = tX_bloc\n",
    "            y_test = list_y_LS[ind]\n",
    "            tX_train= list_tX_LS[:ind] + list_tX_LS[ind+1:]\n",
    "            tX_train= np.concatenate(tX_train)\n",
    "            y_train= list_y_LS[:ind] + list_y_LS[ind+1:]\n",
    "            y_train=np.concatenate(y_train)\n",
    "        \n",
    "            sgd_mse, opt_w = least_squares_SGD(y_train, tX_train, w_initial, batch_size, max_iters, gamma)\n",
    "            mse_errors.append(compute_mse(y_test, tX_test,opt_w))\n",
    "            weights.append(opt_w)\n",
    "    \n",
    "        result_mse_gamma.append(np.mean(mse_errors))\n",
    "        result_opt_w_gamma.append(np.mean(weights,axis=0))\n",
    "    result_mse.append(np.min(result_mse_gamma))\n",
    "    result_gamma = np.argmin(result_mse_gamma)\n",
    "    result_opt_batch_w = weights[np.argmin(result_mse_gamma)]\n",
    "\n",
    "\n",
    "print(\" gamma={l:.3f}, batch={b:.0f}, mse={mse:.3f}\".format(mse = np.min(result_mse), l =result_gamma[np.argmin(result_mse)], b=np.argmin(result_mse))\n",
    "\n",
    "optimal_weights_LS_SGD = result_opt_w[np.argmin(result_mse)]\n",
    "print(optimal_weights_LS_SDG)\n",
    "\n",
    "#Training Accuracy\n",
    "y_model = predict_labels(optimal_weights_LS_SGD, tX_LS)\n",
    "sum_ = 0\n",
    "for i,v in enumerate(y_model):\n",
    "    if(v == y_LS[i]):\n",
    "        sum_ = sum_+1\n",
    "print(sum_/len(y_model))\n",
    "\n"
   ]
  },
  {
   "cell_type": "markdown",
   "metadata": {},
   "source": [
    "### Ridge regression"
   ]
  },
  {
   "cell_type": "code",
   "execution_count": 38,
   "metadata": {},
   "outputs": [
    {
     "data": {
      "text/plain": [
       "array([[ 1.00000000e+00,  1.38470000e+02,  5.16550000e+01,\n",
       "         9.78270000e+01,  2.79800000e+01,  9.10000000e-01,\n",
       "         1.24711000e+02,  2.66600000e+00,  3.06400000e+00,\n",
       "         4.19280000e+01,  1.97760000e+02,  1.58200000e+00,\n",
       "         1.39600000e+00,  2.00000000e-01,  3.26380000e+01,\n",
       "         1.01700000e+00,  3.81000000e-01,  5.16260000e+01,\n",
       "         2.27300000e+00, -2.41400000e+00,  1.68240000e+01,\n",
       "        -2.77000000e-01,  2.58733000e+02,  2.00000000e+00,\n",
       "         6.74350000e+01,  2.15000000e+00,  4.44000000e-01,\n",
       "         4.60620000e+01,  1.24000000e+00, -2.47500000e+00,\n",
       "         1.13497000e+02,  1.91739409e+04,  2.66823903e+03,\n",
       "         9.57012193e+03,  7.82880400e+02,  8.28100000e-01,\n",
       "         1.55528335e+04,  7.10755600e+00,  9.38809600e+00,\n",
       "         1.75795718e+03,  3.91090176e+04,  2.50272400e+00,\n",
       "         1.94881600e+00,  4.00000000e-02,  1.06523904e+03,\n",
       "         1.03428900e+00,  1.45161000e-01,  2.66524388e+03,\n",
       "         5.16652900e+00,  5.82739600e+00,  2.83046976e+02,\n",
       "         7.67290000e-02,  6.69427653e+04,  4.00000000e+00,\n",
       "         4.54747923e+03,  4.62250000e+00,  1.97136000e-01,\n",
       "         2.12170784e+03,  1.53760000e+00,  6.12562500e+00,\n",
       "         1.28815690e+04]])"
      ]
     },
     "execution_count": 38,
     "metadata": {},
     "output_type": "execute_result"
    }
   ],
   "source": [
    "from implementations import *\n",
    "\n",
    "x_poly = build_poly(x_clean, 2)\n",
    "lambda_ = 0.1\n",
    "w, loss = ridge_regression_s(y_clean, x_poly, lambda_)\n",
    "x_poly[:1]"
   ]
  },
  {
   "cell_type": "code",
   "execution_count": 22,
   "metadata": {},
   "outputs": [
    {
     "data": {
      "text/plain": [
       "(51086, 30)"
      ]
     },
     "execution_count": 22,
     "metadata": {},
     "output_type": "execute_result"
    }
   ],
   "source": [
    "indices = build_k_indices(y_clean, 4, seed=1)\n",
    "x_test = x_clean[indices[0]]\n",
    "x_train = np.delete(x_clean, [indices[0]], axis=0)\n",
    "x_train.shape"
   ]
  },
  {
   "cell_type": "code",
   "execution_count": 23,
   "metadata": {},
   "outputs": [],
   "source": [
    "loss_tr, loss_te = cross_validation_rr(y_clean, x_clean, k_indices=indices, k=1, lambda_=0.1, degree=3)"
   ]
  },
  {
   "cell_type": "code",
   "execution_count": 24,
   "metadata": {},
   "outputs": [
    {
     "name": "stdout",
     "output_type": "stream",
     "text": [
      "Best lambda is: 0.004520353656360241\n"
     ]
    },
    {
     "data": {
      "image/png": "[encoded data removed]",
      "text/plain": [
       "<Figure size 432x288 with 1 Axes>"
      ]
     },
     "metadata": {
      "needs_background": "light"
     },
     "output_type": "display_data"
    }
   ],
   "source": [
    "from implementations import cross_validation_visualization\n",
    "\n",
    "def cross_validation_demo():\n",
    "    seed = 1\n",
    "    degree = 4\n",
    "    k_fold = 4\n",
    "    lambdas = np.logspace(-4, 0, 30)\n",
    "    \n",
    "    # split data in k fold\n",
    "    k_indices = build_k_indices(y_clean, k_fold, seed)\n",
    "    \n",
    "    # define lists to store the loss of training data and test data\n",
    "    rmse_tr = []\n",
    "    rmse_te = []\n",
    "    \n",
    "    for i in range(len(lambdas)):\n",
    "        l = lambdas[i]\n",
    "        avg_err_tr = 0\n",
    "        avg_err_te = 0\n",
    "        for k in range(k_fold):\n",
    "            err = cross_validation_rr(y_clean, x_clean, k_indices, k, l, degree)\n",
    "            avg_err_tr += err[0]\n",
    "            avg_err_te += err[1]\n",
    "        rmse_tr.append(np.sqrt(2 * avg_err_tr / k_fold))\n",
    "        rmse_te.append(np.sqrt(2 * avg_err_te / k_fold))\n",
    "    cross_validation_visualization(lambdas, rmse_tr, rmse_te)\n",
    "    \n",
    "    min_err_index = 0\n",
    "    for i in range(1, len(rmse_te)):\n",
    "        if rmse_te[i] < rmse_te[min_err_index]:\n",
    "            min_err_index = i\n",
    "            \n",
    "    print('Best lambda is: {0}'.format(lambdas[min_err_index]))       \n",
    "cross_validation_demo()"
   ]
  },
  {
   "cell_type": "code",
   "execution_count": 40,
   "metadata": {},
   "outputs": [
    {
     "data": {
      "text/plain": [
       "array([-1.25420882e-01,  4.48669282e-02,  2.35096063e-03, -2.00380860e-03,\n",
       "       -3.40004326e-03, -2.18803547e-01, -1.20653442e-03, -4.84954061e-03,\n",
       "        6.48909897e-02, -7.20472701e-03,  2.46246510e-03, -3.61223362e-02,\n",
       "        8.47847541e-03,  1.08570284e-01,  3.99678523e-03,  8.73324883e-04,\n",
       "        1.34147903e-03,  1.68391117e-04, -6.13826385e-03, -8.59836809e-05,\n",
       "        1.79056181e-03,  4.92331959e-03, -3.00770926e-03, -2.17848452e-01,\n",
       "        2.51713769e-03, -4.48703441e-03, -2.94226566e-03,  6.74428958e-03,\n",
       "        2.92114067e-03, -1.56700761e-03, -1.59574411e-03, -1.88357765e-04,\n",
       "       -1.05749526e-04, -2.73594175e-05,  1.95559166e-05,  6.08956426e-02,\n",
       "        1.34668480e-06, -1.97929229e-03,  1.47015699e-01,  8.62000566e-05,\n",
       "        5.26584107e-06,  1.76718967e-02,  1.82731505e-02,  1.20323804e-01,\n",
       "       -5.15948747e-05, -3.68325276e-02, -8.41722407e-03, -4.56184787e-05,\n",
       "       -3.92067621e-02, -7.44401230e-03, -1.11582655e-05, -5.09572065e-03,\n",
       "        6.27085057e-06, -3.36716963e-01, -1.12692156e-05,  2.61037906e-02,\n",
       "       -4.60170556e-03, -2.40065761e-05,  2.63249779e-02, -1.31336692e-02,\n",
       "       -1.48703109e-05,  2.91994312e-07,  4.91555193e-07,  1.12291071e-07,\n",
       "       -3.42075435e-08,  7.16069911e-03, -5.42774031e-10, -9.85630908e-05,\n",
       "       -1.03384973e-01, -3.35075983e-07, -3.62678286e-09, -2.26659528e-03,\n",
       "        2.94536309e-02,  7.31661929e-02,  1.10822078e-07, -9.14158110e-04,\n",
       "       -1.75004095e-04,  1.69234290e-07,  2.30587203e-04,  2.28764011e-04,\n",
       "        2.83532323e-08, -6.71293055e-04, -6.05547887e-09, -3.76494099e-01,\n",
       "        1.93703179e-08,  1.11633840e-03,  9.48535733e-04,  1.44293299e-08,\n",
       "       -7.76597251e-05,  1.44405542e-04,  1.90170124e-08, -1.48649844e-10,\n",
       "       -5.59755917e-10, -1.01341460e-10,  2.09226190e-11, -1.65926396e-03,\n",
       "        6.72650804e-14,  2.49449625e-05,  1.48405035e-02,  3.92885510e-10,\n",
       "        8.39442135e-13,  7.20665427e-05, -1.01975917e-03,  2.50087516e-02,\n",
       "       -7.12621217e-11,  1.55317141e-03,  6.91587613e-04, -1.92927219e-10,\n",
       "        1.44957580e-03,  5.55411815e-04, -2.32293432e-11,  3.49877395e-04,\n",
       "        1.89983558e-12,  1.37831280e-01, -1.15447300e-11, -8.15742442e-04,\n",
       "        8.23563134e-05,  1.45643247e-11, -9.23901076e-04,  1.10659850e-03,\n",
       "       -7.21980408e-12])"
      ]
     },
     "execution_count": 40,
     "metadata": {},
     "output_type": "execute_result"
    }
   ],
   "source": [
    "degree_opt = 4\n",
    "lambda_opt = 0.004520353656360241\n",
    "x_poly = build_poly(x_clean, degree_opt)\n",
    "w_rr_opt, loss = ridge_regression_s(y_clean, x_poly, lambda_opt)"
   ]
  },
  {
   "cell_type": "code",
   "execution_count": 47,
   "metadata": {},
   "outputs": [],
   "source": [
    "# testing rr with the test samples\n",
    "DATA_TEST_PATH = '../data/test.csv' # TODO: download train data and supply path here \n",
    "y_te, x_te, ids_te = load_csv_data(DATA_TEST_PATH)"
   ]
  },
  {
   "cell_type": "code",
   "execution_count": 57,
   "metadata": {},
   "outputs": [],
   "source": [
    "selector_te = np.all(x_te != -999.0, axis=1)\n",
    "x_te_clean = x_te[selector_te]\n",
    "y_te_clean = y_te[selector_te]\n",
    "\n",
    "x_te_poly = build_poly(x_te_clean, degree_opt)\n",
    "w_rr_opt, loss = ridge_regression_s(y_te_clean, x_te_poly, lambda_opt)\n",
    "loss"
   ]
  },
  {
   "cell_type": "markdown",
   "metadata": {},
   "source": [
    "## Generate predictions and save ouput in csv format for submission:"
   ]
  },
  {
   "cell_type": "code",
   "execution_count": 14,
   "metadata": {},
   "outputs": [],
   "source": [
    "DATA_TEST_PATH = '../data/test.csv' # TODO: download train data and supply path here \n",
    "_, tX_test, ids_test = load_csv_data(DATA_TEST_PATH)"
   ]
  },
  {
   "cell_type": "code",
   "execution_count": 96,
   "metadata": {},
   "outputs": [],
   "source": [
    "OUTPUT_PATH = './leastSquareGD' # TODO: fill in desired name of output file for submission\n",
    "y_pred = predict_labels(optimal_weights_LS_GD, tX_test)\n",
    "create_csv_submission(ids_test, y_pred, OUTPUT_PATH)"
   ]
  },
  {
   "cell_type": "code",
   "execution_count": 41,
   "metadata": {},
   "outputs": [],
   "source": [
    "OUTPUT_PATH = './ridge_regression' # TODO: fill in desired name of output file for submission\n",
    "y_pred = predict_labels(w_rr_opt, build_poly(tX_test, degree_opt))\n",
    "create_csv_submission(ids_test, y_pred, OUTPUT_PATH)"
   ]
  },
  {
   "cell_type": "code",
   "execution_count": null,
   "metadata": {},
   "outputs": [],
   "source": []
  }
 ],
 "metadata": {
  "anaconda-cloud": {},
  "kernelspec": {
   "display_name": "Python 3",
   "language": "python",
   "name": "python3"
  },
  "language_info": {
   "codemirror_mode": {
    "name": "ipython",
    "version": 3
   },
   "file_extension": ".py",
   "mimetype": "text/x-python",
   "name": "python",
   "nbconvert_exporter": "python",
   "pygments_lexer": "ipython3",
   "version": "3.7.3"
  }
 },
 "nbformat": 4,
 "nbformat_minor": 4
}
